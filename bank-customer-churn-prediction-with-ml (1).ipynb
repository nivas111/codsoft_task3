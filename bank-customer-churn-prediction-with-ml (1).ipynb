{
 "cells": [
  {
   "cell_type": "markdown",
   "id": "adc18368",
   "metadata": {
    "id": "KU8ag2UPQLir",
    "papermill": {
     "duration": 0.014463,
     "end_time": "2024-05-07T04:49:46.847890",
     "exception": false,
     "start_time": "2024-05-07T04:49:46.833427",
     "status": "completed"
    },
    "tags": []
   },
   "source": [
    "# Importing Libraries"
   ]
  },
  {
   "cell_type": "code",
   "execution_count": 1,
   "id": "ab92092c",
   "metadata": {
    "_cell_guid": "b1076dfc-b9ad-4769-8c92-a6c4dae69d19",
    "_uuid": "8f2839f25d086af736a60e9eeb907d3b93b6e0e5",
    "execution": {
     "iopub.execute_input": "2024-05-07T04:49:46.877941Z",
     "iopub.status.busy": "2024-05-07T04:49:46.877429Z",
     "iopub.status.idle": "2024-05-07T04:49:50.718759Z",
     "shell.execute_reply": "2024-05-07T04:49:50.717439Z"
    },
    "id": "ae302830",
    "papermill": {
     "duration": 3.860425,
     "end_time": "2024-05-07T04:49:50.722006",
     "exception": false,
     "start_time": "2024-05-07T04:49:46.861581",
     "status": "completed"
    },
    "tags": []
   },
   "outputs": [],
   "source": [
    "from sklearn.preprocessing import LabelEncoder\n",
    "from sklearn.model_selection import train_test_split\n",
    "from sklearn.ensemble import RandomForestClassifier\n",
    "from sklearn.linear_model import LogisticRegression\n",
    "from sklearn.ensemble import GradientBoostingClassifier\n",
    "from sklearn.metrics import accuracy_score, classification_report, confusion_matrix, roc_curve, auc\n",
    "import matplotlib.pyplot as plt\n",
    "import seaborn as sns\n",
    "import numpy as np\n",
    "import pandas as pd\n",
    "import warnings\n",
    "warnings.filterwarnings(\"ignore\")"
   ]
  },
  {
   "cell_type": "markdown",
   "id": "55f858b6",
   "metadata": {
    "id": "OJSH2ANaQQeB",
    "papermill": {
     "duration": 0.012944,
     "end_time": "2024-05-07T04:49:50.748155",
     "exception": false,
     "start_time": "2024-05-07T04:49:50.735211",
     "status": "completed"
    },
    "tags": []
   },
   "source": [
    "# Loading Dataset"
   ]
  },
  {
   "cell_type": "code",
   "execution_count": 2,
   "id": "6eaada2d",
   "metadata": {
    "execution": {
     "iopub.execute_input": "2024-05-07T04:49:50.780404Z",
     "iopub.status.busy": "2024-05-07T04:49:50.779624Z",
     "iopub.status.idle": "2024-05-07T04:49:50.867557Z",
     "shell.execute_reply": "2024-05-07T04:49:50.865742Z"
    },
    "id": "1bd6646c",
    "outputId": "6366b945-628a-43d7-9149-d06c02927b7a",
    "papermill": {
     "duration": 0.10874,
     "end_time": "2024-05-07T04:49:50.870734",
     "exception": false,
     "start_time": "2024-05-07T04:49:50.761994",
     "status": "completed"
    },
    "tags": []
   },
   "outputs": [
    {
     "data": {
      "text/html": [
       "<div>\n",
       "<style scoped>\n",
       "    .dataframe tbody tr th:only-of-type {\n",
       "        vertical-align: middle;\n",
       "    }\n",
       "\n",
       "    .dataframe tbody tr th {\n",
       "        vertical-align: top;\n",
       "    }\n",
       "\n",
       "    .dataframe thead th {\n",
       "        text-align: right;\n",
       "    }\n",
       "</style>\n",
       "<table border=\"1\" class=\"dataframe\">\n",
       "  <thead>\n",
       "    <tr style=\"text-align: right;\">\n",
       "      <th></th>\n",
       "      <th>RowNumber</th>\n",
       "      <th>CustomerId</th>\n",
       "      <th>Surname</th>\n",
       "      <th>CreditScore</th>\n",
       "      <th>Geography</th>\n",
       "      <th>Gender</th>\n",
       "      <th>Age</th>\n",
       "      <th>Tenure</th>\n",
       "      <th>Balance</th>\n",
       "      <th>NumOfProducts</th>\n",
       "      <th>HasCrCard</th>\n",
       "      <th>IsActiveMember</th>\n",
       "      <th>EstimatedSalary</th>\n",
       "      <th>Exited</th>\n",
       "    </tr>\n",
       "  </thead>\n",
       "  <tbody>\n",
       "    <tr>\n",
       "      <th>0</th>\n",
       "      <td>1</td>\n",
       "      <td>15634602</td>\n",
       "      <td>Hargrave</td>\n",
       "      <td>619</td>\n",
       "      <td>France</td>\n",
       "      <td>Female</td>\n",
       "      <td>42</td>\n",
       "      <td>2</td>\n",
       "      <td>0.00</td>\n",
       "      <td>1</td>\n",
       "      <td>1</td>\n",
       "      <td>1</td>\n",
       "      <td>101348.88</td>\n",
       "      <td>1</td>\n",
       "    </tr>\n",
       "    <tr>\n",
       "      <th>1</th>\n",
       "      <td>2</td>\n",
       "      <td>15647311</td>\n",
       "      <td>Hill</td>\n",
       "      <td>608</td>\n",
       "      <td>Spain</td>\n",
       "      <td>Female</td>\n",
       "      <td>41</td>\n",
       "      <td>1</td>\n",
       "      <td>83807.86</td>\n",
       "      <td>1</td>\n",
       "      <td>0</td>\n",
       "      <td>1</td>\n",
       "      <td>112542.58</td>\n",
       "      <td>0</td>\n",
       "    </tr>\n",
       "    <tr>\n",
       "      <th>2</th>\n",
       "      <td>3</td>\n",
       "      <td>15619304</td>\n",
       "      <td>Onio</td>\n",
       "      <td>502</td>\n",
       "      <td>France</td>\n",
       "      <td>Female</td>\n",
       "      <td>42</td>\n",
       "      <td>8</td>\n",
       "      <td>159660.80</td>\n",
       "      <td>3</td>\n",
       "      <td>1</td>\n",
       "      <td>0</td>\n",
       "      <td>113931.57</td>\n",
       "      <td>1</td>\n",
       "    </tr>\n",
       "    <tr>\n",
       "      <th>3</th>\n",
       "      <td>4</td>\n",
       "      <td>15701354</td>\n",
       "      <td>Boni</td>\n",
       "      <td>699</td>\n",
       "      <td>France</td>\n",
       "      <td>Female</td>\n",
       "      <td>39</td>\n",
       "      <td>1</td>\n",
       "      <td>0.00</td>\n",
       "      <td>2</td>\n",
       "      <td>0</td>\n",
       "      <td>0</td>\n",
       "      <td>93826.63</td>\n",
       "      <td>0</td>\n",
       "    </tr>\n",
       "    <tr>\n",
       "      <th>4</th>\n",
       "      <td>5</td>\n",
       "      <td>15737888</td>\n",
       "      <td>Mitchell</td>\n",
       "      <td>850</td>\n",
       "      <td>Spain</td>\n",
       "      <td>Female</td>\n",
       "      <td>43</td>\n",
       "      <td>2</td>\n",
       "      <td>125510.82</td>\n",
       "      <td>1</td>\n",
       "      <td>1</td>\n",
       "      <td>1</td>\n",
       "      <td>79084.10</td>\n",
       "      <td>0</td>\n",
       "    </tr>\n",
       "  </tbody>\n",
       "</table>\n",
       "</div>"
      ],
      "text/plain": [
       "   RowNumber  CustomerId   Surname  CreditScore Geography  Gender  Age  \\\n",
       "0          1    15634602  Hargrave          619    France  Female   42   \n",
       "1          2    15647311      Hill          608     Spain  Female   41   \n",
       "2          3    15619304      Onio          502    France  Female   42   \n",
       "3          4    15701354      Boni          699    France  Female   39   \n",
       "4          5    15737888  Mitchell          850     Spain  Female   43   \n",
       "\n",
       "   Tenure    Balance  NumOfProducts  HasCrCard  IsActiveMember  \\\n",
       "0       2       0.00              1          1               1   \n",
       "1       1   83807.86              1          0               1   \n",
       "2       8  159660.80              3          1               0   \n",
       "3       1       0.00              2          0               0   \n",
       "4       2  125510.82              1          1               1   \n",
       "\n",
       "   EstimatedSalary  Exited  \n",
       "0        101348.88       1  \n",
       "1        112542.58       0  \n",
       "2        113931.57       1  \n",
       "3         93826.63       0  \n",
       "4         79084.10       0  "
      ]
     },
     "execution_count": 2,
     "metadata": {},
     "output_type": "execute_result"
    }
   ],
   "source": [
    "df=pd.read_csv('/kaggle/input/churn-prediction/Churn_Modelling.csv')\n",
    "df.head()"
   ]
  },
  {
   "cell_type": "code",
   "execution_count": 3,
   "id": "84b9deb7",
   "metadata": {
    "execution": {
     "iopub.execute_input": "2024-05-07T04:49:50.901381Z",
     "iopub.status.busy": "2024-05-07T04:49:50.900618Z",
     "iopub.status.idle": "2024-05-07T04:49:50.920337Z",
     "shell.execute_reply": "2024-05-07T04:49:50.918960Z"
    },
    "id": "_Ua2OVn0dE38",
    "outputId": "09005702-cc77-4d33-b763-193c7d7bc6d6",
    "papermill": {
     "duration": 0.040146,
     "end_time": "2024-05-07T04:49:50.924824",
     "exception": false,
     "start_time": "2024-05-07T04:49:50.884678",
     "status": "completed"
    },
    "tags": []
   },
   "outputs": [
    {
     "data": {
      "text/html": [
       "<div>\n",
       "<style scoped>\n",
       "    .dataframe tbody tr th:only-of-type {\n",
       "        vertical-align: middle;\n",
       "    }\n",
       "\n",
       "    .dataframe tbody tr th {\n",
       "        vertical-align: top;\n",
       "    }\n",
       "\n",
       "    .dataframe thead th {\n",
       "        text-align: right;\n",
       "    }\n",
       "</style>\n",
       "<table border=\"1\" class=\"dataframe\">\n",
       "  <thead>\n",
       "    <tr style=\"text-align: right;\">\n",
       "      <th></th>\n",
       "      <th>RowNumber</th>\n",
       "      <th>CustomerId</th>\n",
       "      <th>Surname</th>\n",
       "      <th>CreditScore</th>\n",
       "      <th>Geography</th>\n",
       "      <th>Gender</th>\n",
       "      <th>Age</th>\n",
       "      <th>Tenure</th>\n",
       "      <th>Balance</th>\n",
       "      <th>NumOfProducts</th>\n",
       "      <th>HasCrCard</th>\n",
       "      <th>IsActiveMember</th>\n",
       "      <th>EstimatedSalary</th>\n",
       "      <th>Exited</th>\n",
       "    </tr>\n",
       "  </thead>\n",
       "  <tbody>\n",
       "    <tr>\n",
       "      <th>9995</th>\n",
       "      <td>9996</td>\n",
       "      <td>15606229</td>\n",
       "      <td>Obijiaku</td>\n",
       "      <td>771</td>\n",
       "      <td>France</td>\n",
       "      <td>Male</td>\n",
       "      <td>39</td>\n",
       "      <td>5</td>\n",
       "      <td>0.00</td>\n",
       "      <td>2</td>\n",
       "      <td>1</td>\n",
       "      <td>0</td>\n",
       "      <td>96270.64</td>\n",
       "      <td>0</td>\n",
       "    </tr>\n",
       "    <tr>\n",
       "      <th>9996</th>\n",
       "      <td>9997</td>\n",
       "      <td>15569892</td>\n",
       "      <td>Johnstone</td>\n",
       "      <td>516</td>\n",
       "      <td>France</td>\n",
       "      <td>Male</td>\n",
       "      <td>35</td>\n",
       "      <td>10</td>\n",
       "      <td>57369.61</td>\n",
       "      <td>1</td>\n",
       "      <td>1</td>\n",
       "      <td>1</td>\n",
       "      <td>101699.77</td>\n",
       "      <td>0</td>\n",
       "    </tr>\n",
       "    <tr>\n",
       "      <th>9997</th>\n",
       "      <td>9998</td>\n",
       "      <td>15584532</td>\n",
       "      <td>Liu</td>\n",
       "      <td>709</td>\n",
       "      <td>France</td>\n",
       "      <td>Female</td>\n",
       "      <td>36</td>\n",
       "      <td>7</td>\n",
       "      <td>0.00</td>\n",
       "      <td>1</td>\n",
       "      <td>0</td>\n",
       "      <td>1</td>\n",
       "      <td>42085.58</td>\n",
       "      <td>1</td>\n",
       "    </tr>\n",
       "    <tr>\n",
       "      <th>9998</th>\n",
       "      <td>9999</td>\n",
       "      <td>15682355</td>\n",
       "      <td>Sabbatini</td>\n",
       "      <td>772</td>\n",
       "      <td>Germany</td>\n",
       "      <td>Male</td>\n",
       "      <td>42</td>\n",
       "      <td>3</td>\n",
       "      <td>75075.31</td>\n",
       "      <td>2</td>\n",
       "      <td>1</td>\n",
       "      <td>0</td>\n",
       "      <td>92888.52</td>\n",
       "      <td>1</td>\n",
       "    </tr>\n",
       "    <tr>\n",
       "      <th>9999</th>\n",
       "      <td>10000</td>\n",
       "      <td>15628319</td>\n",
       "      <td>Walker</td>\n",
       "      <td>792</td>\n",
       "      <td>France</td>\n",
       "      <td>Female</td>\n",
       "      <td>28</td>\n",
       "      <td>4</td>\n",
       "      <td>130142.79</td>\n",
       "      <td>1</td>\n",
       "      <td>1</td>\n",
       "      <td>0</td>\n",
       "      <td>38190.78</td>\n",
       "      <td>0</td>\n",
       "    </tr>\n",
       "  </tbody>\n",
       "</table>\n",
       "</div>"
      ],
      "text/plain": [
       "      RowNumber  CustomerId    Surname  CreditScore Geography  Gender  Age  \\\n",
       "9995       9996    15606229   Obijiaku          771    France    Male   39   \n",
       "9996       9997    15569892  Johnstone          516    France    Male   35   \n",
       "9997       9998    15584532        Liu          709    France  Female   36   \n",
       "9998       9999    15682355  Sabbatini          772   Germany    Male   42   \n",
       "9999      10000    15628319     Walker          792    France  Female   28   \n",
       "\n",
       "      Tenure    Balance  NumOfProducts  HasCrCard  IsActiveMember  \\\n",
       "9995       5       0.00              2          1               0   \n",
       "9996      10   57369.61              1          1               1   \n",
       "9997       7       0.00              1          0               1   \n",
       "9998       3   75075.31              2          1               0   \n",
       "9999       4  130142.79              1          1               0   \n",
       "\n",
       "      EstimatedSalary  Exited  \n",
       "9995         96270.64       0  \n",
       "9996        101699.77       0  \n",
       "9997         42085.58       1  \n",
       "9998         92888.52       1  \n",
       "9999         38190.78       0  "
      ]
     },
     "execution_count": 3,
     "metadata": {},
     "output_type": "execute_result"
    }
   ],
   "source": [
    "df.tail()"
   ]
  },
  {
   "cell_type": "code",
   "execution_count": 4,
   "id": "587061a0",
   "metadata": {
    "execution": {
     "iopub.execute_input": "2024-05-07T04:49:50.955110Z",
     "iopub.status.busy": "2024-05-07T04:49:50.954277Z",
     "iopub.status.idle": "2024-05-07T04:49:50.990124Z",
     "shell.execute_reply": "2024-05-07T04:49:50.988124Z"
    },
    "id": "4f2e1246",
    "outputId": "878bdda5-6230-42da-a9b4-f43cb3fccb01",
    "papermill": {
     "duration": 0.054094,
     "end_time": "2024-05-07T04:49:50.993011",
     "exception": false,
     "start_time": "2024-05-07T04:49:50.938917",
     "status": "completed"
    },
    "tags": []
   },
   "outputs": [
    {
     "name": "stdout",
     "output_type": "stream",
     "text": [
      "<class 'pandas.core.frame.DataFrame'>\n",
      "RangeIndex: 10000 entries, 0 to 9999\n",
      "Data columns (total 14 columns):\n",
      " #   Column           Non-Null Count  Dtype  \n",
      "---  ------           --------------  -----  \n",
      " 0   RowNumber        10000 non-null  int64  \n",
      " 1   CustomerId       10000 non-null  int64  \n",
      " 2   Surname          10000 non-null  object \n",
      " 3   CreditScore      10000 non-null  int64  \n",
      " 4   Geography        10000 non-null  object \n",
      " 5   Gender           10000 non-null  object \n",
      " 6   Age              10000 non-null  int64  \n",
      " 7   Tenure           10000 non-null  int64  \n",
      " 8   Balance          10000 non-null  float64\n",
      " 9   NumOfProducts    10000 non-null  int64  \n",
      " 10  HasCrCard        10000 non-null  int64  \n",
      " 11  IsActiveMember   10000 non-null  int64  \n",
      " 12  EstimatedSalary  10000 non-null  float64\n",
      " 13  Exited           10000 non-null  int64  \n",
      "dtypes: float64(2), int64(9), object(3)\n",
      "memory usage: 1.1+ MB\n"
     ]
    }
   ],
   "source": [
    "#Data is Clear\n",
    "df.info()"
   ]
  },
  {
   "cell_type": "code",
   "execution_count": 5,
   "id": "ec6b7a9e",
   "metadata": {
    "execution": {
     "iopub.execute_input": "2024-05-07T04:49:51.027198Z",
     "iopub.status.busy": "2024-05-07T04:49:51.026416Z",
     "iopub.status.idle": "2024-05-07T04:49:51.034065Z",
     "shell.execute_reply": "2024-05-07T04:49:51.033174Z"
    },
    "id": "84369678",
    "outputId": "8b028ee8-83c5-434c-df39-d179c07c1584",
    "papermill": {
     "duration": 0.027116,
     "end_time": "2024-05-07T04:49:51.036560",
     "exception": false,
     "start_time": "2024-05-07T04:49:51.009444",
     "status": "completed"
    },
    "tags": []
   },
   "outputs": [
    {
     "data": {
      "text/plain": [
       "array(['France', 'Spain', 'Germany'], dtype=object)"
      ]
     },
     "execution_count": 5,
     "metadata": {},
     "output_type": "execute_result"
    }
   ],
   "source": [
    "#Three unique countries\n",
    "df[\"Geography\"].unique()"
   ]
  },
  {
   "cell_type": "code",
   "execution_count": 6,
   "id": "44f98e94",
   "metadata": {
    "execution": {
     "iopub.execute_input": "2024-05-07T04:49:51.068315Z",
     "iopub.status.busy": "2024-05-07T04:49:51.067619Z",
     "iopub.status.idle": "2024-05-07T04:49:51.120453Z",
     "shell.execute_reply": "2024-05-07T04:49:51.118982Z"
    },
    "id": "9d2c4d47",
    "outputId": "9b9ace6b-2b0d-4142-d046-457b926e73e5",
    "papermill": {
     "duration": 0.072417,
     "end_time": "2024-05-07T04:49:51.123575",
     "exception": false,
     "start_time": "2024-05-07T04:49:51.051158",
     "status": "completed"
    },
    "tags": []
   },
   "outputs": [
    {
     "data": {
      "text/html": [
       "<div>\n",
       "<style scoped>\n",
       "    .dataframe tbody tr th:only-of-type {\n",
       "        vertical-align: middle;\n",
       "    }\n",
       "\n",
       "    .dataframe tbody tr th {\n",
       "        vertical-align: top;\n",
       "    }\n",
       "\n",
       "    .dataframe thead th {\n",
       "        text-align: right;\n",
       "    }\n",
       "</style>\n",
       "<table border=\"1\" class=\"dataframe\">\n",
       "  <thead>\n",
       "    <tr style=\"text-align: right;\">\n",
       "      <th></th>\n",
       "      <th>RowNumber</th>\n",
       "      <th>CustomerId</th>\n",
       "      <th>CreditScore</th>\n",
       "      <th>Age</th>\n",
       "      <th>Tenure</th>\n",
       "      <th>Balance</th>\n",
       "      <th>NumOfProducts</th>\n",
       "      <th>HasCrCard</th>\n",
       "      <th>IsActiveMember</th>\n",
       "      <th>EstimatedSalary</th>\n",
       "      <th>Exited</th>\n",
       "    </tr>\n",
       "  </thead>\n",
       "  <tbody>\n",
       "    <tr>\n",
       "      <th>count</th>\n",
       "      <td>10000.00000</td>\n",
       "      <td>1.000000e+04</td>\n",
       "      <td>10000.000000</td>\n",
       "      <td>10000.000000</td>\n",
       "      <td>10000.000000</td>\n",
       "      <td>10000.000000</td>\n",
       "      <td>10000.000000</td>\n",
       "      <td>10000.00000</td>\n",
       "      <td>10000.000000</td>\n",
       "      <td>10000.000000</td>\n",
       "      <td>10000.000000</td>\n",
       "    </tr>\n",
       "    <tr>\n",
       "      <th>mean</th>\n",
       "      <td>5000.50000</td>\n",
       "      <td>1.569094e+07</td>\n",
       "      <td>650.528800</td>\n",
       "      <td>38.921800</td>\n",
       "      <td>5.012800</td>\n",
       "      <td>76485.889288</td>\n",
       "      <td>1.530200</td>\n",
       "      <td>0.70550</td>\n",
       "      <td>0.515100</td>\n",
       "      <td>100090.239881</td>\n",
       "      <td>0.203700</td>\n",
       "    </tr>\n",
       "    <tr>\n",
       "      <th>std</th>\n",
       "      <td>2886.89568</td>\n",
       "      <td>7.193619e+04</td>\n",
       "      <td>96.653299</td>\n",
       "      <td>10.487806</td>\n",
       "      <td>2.892174</td>\n",
       "      <td>62397.405202</td>\n",
       "      <td>0.581654</td>\n",
       "      <td>0.45584</td>\n",
       "      <td>0.499797</td>\n",
       "      <td>57510.492818</td>\n",
       "      <td>0.402769</td>\n",
       "    </tr>\n",
       "    <tr>\n",
       "      <th>min</th>\n",
       "      <td>1.00000</td>\n",
       "      <td>1.556570e+07</td>\n",
       "      <td>350.000000</td>\n",
       "      <td>18.000000</td>\n",
       "      <td>0.000000</td>\n",
       "      <td>0.000000</td>\n",
       "      <td>1.000000</td>\n",
       "      <td>0.00000</td>\n",
       "      <td>0.000000</td>\n",
       "      <td>11.580000</td>\n",
       "      <td>0.000000</td>\n",
       "    </tr>\n",
       "    <tr>\n",
       "      <th>25%</th>\n",
       "      <td>2500.75000</td>\n",
       "      <td>1.562853e+07</td>\n",
       "      <td>584.000000</td>\n",
       "      <td>32.000000</td>\n",
       "      <td>3.000000</td>\n",
       "      <td>0.000000</td>\n",
       "      <td>1.000000</td>\n",
       "      <td>0.00000</td>\n",
       "      <td>0.000000</td>\n",
       "      <td>51002.110000</td>\n",
       "      <td>0.000000</td>\n",
       "    </tr>\n",
       "    <tr>\n",
       "      <th>50%</th>\n",
       "      <td>5000.50000</td>\n",
       "      <td>1.569074e+07</td>\n",
       "      <td>652.000000</td>\n",
       "      <td>37.000000</td>\n",
       "      <td>5.000000</td>\n",
       "      <td>97198.540000</td>\n",
       "      <td>1.000000</td>\n",
       "      <td>1.00000</td>\n",
       "      <td>1.000000</td>\n",
       "      <td>100193.915000</td>\n",
       "      <td>0.000000</td>\n",
       "    </tr>\n",
       "    <tr>\n",
       "      <th>75%</th>\n",
       "      <td>7500.25000</td>\n",
       "      <td>1.575323e+07</td>\n",
       "      <td>718.000000</td>\n",
       "      <td>44.000000</td>\n",
       "      <td>7.000000</td>\n",
       "      <td>127644.240000</td>\n",
       "      <td>2.000000</td>\n",
       "      <td>1.00000</td>\n",
       "      <td>1.000000</td>\n",
       "      <td>149388.247500</td>\n",
       "      <td>0.000000</td>\n",
       "    </tr>\n",
       "    <tr>\n",
       "      <th>max</th>\n",
       "      <td>10000.00000</td>\n",
       "      <td>1.581569e+07</td>\n",
       "      <td>850.000000</td>\n",
       "      <td>92.000000</td>\n",
       "      <td>10.000000</td>\n",
       "      <td>250898.090000</td>\n",
       "      <td>4.000000</td>\n",
       "      <td>1.00000</td>\n",
       "      <td>1.000000</td>\n",
       "      <td>199992.480000</td>\n",
       "      <td>1.000000</td>\n",
       "    </tr>\n",
       "  </tbody>\n",
       "</table>\n",
       "</div>"
      ],
      "text/plain": [
       "         RowNumber    CustomerId   CreditScore           Age        Tenure  \\\n",
       "count  10000.00000  1.000000e+04  10000.000000  10000.000000  10000.000000   \n",
       "mean    5000.50000  1.569094e+07    650.528800     38.921800      5.012800   \n",
       "std     2886.89568  7.193619e+04     96.653299     10.487806      2.892174   \n",
       "min        1.00000  1.556570e+07    350.000000     18.000000      0.000000   \n",
       "25%     2500.75000  1.562853e+07    584.000000     32.000000      3.000000   \n",
       "50%     5000.50000  1.569074e+07    652.000000     37.000000      5.000000   \n",
       "75%     7500.25000  1.575323e+07    718.000000     44.000000      7.000000   \n",
       "max    10000.00000  1.581569e+07    850.000000     92.000000     10.000000   \n",
       "\n",
       "             Balance  NumOfProducts    HasCrCard  IsActiveMember  \\\n",
       "count   10000.000000   10000.000000  10000.00000    10000.000000   \n",
       "mean    76485.889288       1.530200      0.70550        0.515100   \n",
       "std     62397.405202       0.581654      0.45584        0.499797   \n",
       "min         0.000000       1.000000      0.00000        0.000000   \n",
       "25%         0.000000       1.000000      0.00000        0.000000   \n",
       "50%     97198.540000       1.000000      1.00000        1.000000   \n",
       "75%    127644.240000       2.000000      1.00000        1.000000   \n",
       "max    250898.090000       4.000000      1.00000        1.000000   \n",
       "\n",
       "       EstimatedSalary        Exited  \n",
       "count     10000.000000  10000.000000  \n",
       "mean     100090.239881      0.203700  \n",
       "std       57510.492818      0.402769  \n",
       "min          11.580000      0.000000  \n",
       "25%       51002.110000      0.000000  \n",
       "50%      100193.915000      0.000000  \n",
       "75%      149388.247500      0.000000  \n",
       "max      199992.480000      1.000000  "
      ]
     },
     "execution_count": 6,
     "metadata": {},
     "output_type": "execute_result"
    }
   ],
   "source": [
    "df.describe()"
   ]
  },
  {
   "cell_type": "code",
   "execution_count": 7,
   "id": "074022ce",
   "metadata": {
    "execution": {
     "iopub.execute_input": "2024-05-07T04:49:51.155725Z",
     "iopub.status.busy": "2024-05-07T04:49:51.155230Z",
     "iopub.status.idle": "2024-05-07T04:49:51.367397Z",
     "shell.execute_reply": "2024-05-07T04:49:51.365614Z"
    },
    "id": "8K5ui_a6cOqR",
    "outputId": "5f35c1e1-9f9b-4c1a-8ffe-45d4b7e35810",
    "papermill": {
     "duration": 0.234056,
     "end_time": "2024-05-07T04:49:51.372412",
     "exception": false,
     "start_time": "2024-05-07T04:49:51.138356",
     "status": "completed"
    },
    "tags": []
   },
   "outputs": [
    {
     "data": {
      "image/png": "[encoded data removed]",
      "text/plain": [
       "<Figure size 1000x500 with 1 Axes>"
      ]
     },
     "metadata": {},
     "output_type": "display_data"
    }
   ],
   "source": [
    "#Gender distribution\n",
    "plt.figure(figsize = (10,5))\n",
    "plt.pie(df['Gender'].value_counts().values,labels=['Male','Female'],autopct='%.f%%',explode = [0,0.1],shadow = True)\n",
    "plt.show()"
   ]
  },
  {
   "cell_type": "code",
   "execution_count": 8,
   "id": "62516680",
   "metadata": {
    "execution": {
     "iopub.execute_input": "2024-05-07T04:49:51.429833Z",
     "iopub.status.busy": "2024-05-07T04:49:51.428550Z",
     "iopub.status.idle": "2024-05-07T04:49:51.699755Z",
     "shell.execute_reply": "2024-05-07T04:49:51.698831Z"
    },
    "id": "kr3Cb23_cpSs",
    "outputId": "1e5dcdde-7655-4508-d6c0-6a07daa6f74b",
    "papermill": {
     "duration": 0.296659,
     "end_time": "2024-05-07T04:49:51.702093",
     "exception": false,
     "start_time": "2024-05-07T04:49:51.405434",
     "status": "completed"
    },
    "tags": []
   },
   "outputs": [
    {
     "data": {
      "image/png": "[encoded data removed]",
      "text/plain": [
       "<Figure size 500x500 with 1 Axes>"
      ]
     },
     "metadata": {},
     "output_type": "display_data"
    }
   ],
   "source": [
    "#Geography wise\n",
    "region = df.Geography.value_counts().to_frame().reset_index()\n",
    "region.columns = ['Country','Count']\n",
    "plt.figure(figsize = (5,5))\n",
    "ax=sns.barplot(x = region['Country'],y = region['Count'],palette='GnBu')\n",
    "for i in ax.containers:\n",
    "    ax.bar_label(i,)"
   ]
  },
  {
   "cell_type": "markdown",
   "id": "3eb81b31",
   "metadata": {
    "id": "c6accfy2Ynww",
    "papermill": {
     "duration": 0.015466,
     "end_time": "2024-05-07T04:49:51.732962",
     "exception": false,
     "start_time": "2024-05-07T04:49:51.717496",
     "status": "completed"
    },
    "tags": []
   },
   "source": [
    "# Data Cleaning"
   ]
  },
  {
   "cell_type": "code",
   "execution_count": 9,
   "id": "560c191a",
   "metadata": {
    "execution": {
     "iopub.execute_input": "2024-05-07T04:49:51.767746Z",
     "iopub.status.busy": "2024-05-07T04:49:51.766832Z",
     "iopub.status.idle": "2024-05-07T04:49:51.789535Z",
     "shell.execute_reply": "2024-05-07T04:49:51.788165Z"
    },
    "id": "5e1c3430",
    "outputId": "5ce0e800-2060-463d-bed9-e15182a64c8d",
    "papermill": {
     "duration": 0.042969,
     "end_time": "2024-05-07T04:49:51.792061",
     "exception": false,
     "start_time": "2024-05-07T04:49:51.749092",
     "status": "completed"
    },
    "tags": []
   },
   "outputs": [
    {
     "data": {
      "text/html": [
       "<div>\n",
       "<style scoped>\n",
       "    .dataframe tbody tr th:only-of-type {\n",
       "        vertical-align: middle;\n",
       "    }\n",
       "\n",
       "    .dataframe tbody tr th {\n",
       "        vertical-align: top;\n",
       "    }\n",
       "\n",
       "    .dataframe thead th {\n",
       "        text-align: right;\n",
       "    }\n",
       "</style>\n",
       "<table border=\"1\" class=\"dataframe\">\n",
       "  <thead>\n",
       "    <tr style=\"text-align: right;\">\n",
       "      <th></th>\n",
       "      <th>CreditScore</th>\n",
       "      <th>Geography</th>\n",
       "      <th>Gender</th>\n",
       "      <th>Age</th>\n",
       "      <th>Tenure</th>\n",
       "      <th>Balance</th>\n",
       "      <th>NumOfProducts</th>\n",
       "      <th>HasCrCard</th>\n",
       "      <th>IsActiveMember</th>\n",
       "      <th>EstimatedSalary</th>\n",
       "      <th>Exited</th>\n",
       "    </tr>\n",
       "  </thead>\n",
       "  <tbody>\n",
       "    <tr>\n",
       "      <th>0</th>\n",
       "      <td>619</td>\n",
       "      <td>France</td>\n",
       "      <td>Female</td>\n",
       "      <td>42</td>\n",
       "      <td>2</td>\n",
       "      <td>0.00</td>\n",
       "      <td>1</td>\n",
       "      <td>1</td>\n",
       "      <td>1</td>\n",
       "      <td>101348.88</td>\n",
       "      <td>1</td>\n",
       "    </tr>\n",
       "    <tr>\n",
       "      <th>1</th>\n",
       "      <td>608</td>\n",
       "      <td>Spain</td>\n",
       "      <td>Female</td>\n",
       "      <td>41</td>\n",
       "      <td>1</td>\n",
       "      <td>83807.86</td>\n",
       "      <td>1</td>\n",
       "      <td>0</td>\n",
       "      <td>1</td>\n",
       "      <td>112542.58</td>\n",
       "      <td>0</td>\n",
       "    </tr>\n",
       "    <tr>\n",
       "      <th>2</th>\n",
       "      <td>502</td>\n",
       "      <td>France</td>\n",
       "      <td>Female</td>\n",
       "      <td>42</td>\n",
       "      <td>8</td>\n",
       "      <td>159660.80</td>\n",
       "      <td>3</td>\n",
       "      <td>1</td>\n",
       "      <td>0</td>\n",
       "      <td>113931.57</td>\n",
       "      <td>1</td>\n",
       "    </tr>\n",
       "    <tr>\n",
       "      <th>3</th>\n",
       "      <td>699</td>\n",
       "      <td>France</td>\n",
       "      <td>Female</td>\n",
       "      <td>39</td>\n",
       "      <td>1</td>\n",
       "      <td>0.00</td>\n",
       "      <td>2</td>\n",
       "      <td>0</td>\n",
       "      <td>0</td>\n",
       "      <td>93826.63</td>\n",
       "      <td>0</td>\n",
       "    </tr>\n",
       "    <tr>\n",
       "      <th>4</th>\n",
       "      <td>850</td>\n",
       "      <td>Spain</td>\n",
       "      <td>Female</td>\n",
       "      <td>43</td>\n",
       "      <td>2</td>\n",
       "      <td>125510.82</td>\n",
       "      <td>1</td>\n",
       "      <td>1</td>\n",
       "      <td>1</td>\n",
       "      <td>79084.10</td>\n",
       "      <td>0</td>\n",
       "    </tr>\n",
       "  </tbody>\n",
       "</table>\n",
       "</div>"
      ],
      "text/plain": [
       "   CreditScore Geography  Gender  Age  Tenure    Balance  NumOfProducts  \\\n",
       "0          619    France  Female   42       2       0.00              1   \n",
       "1          608     Spain  Female   41       1   83807.86              1   \n",
       "2          502    France  Female   42       8  159660.80              3   \n",
       "3          699    France  Female   39       1       0.00              2   \n",
       "4          850     Spain  Female   43       2  125510.82              1   \n",
       "\n",
       "   HasCrCard  IsActiveMember  EstimatedSalary  Exited  \n",
       "0          1               1        101348.88       1  \n",
       "1          0               1        112542.58       0  \n",
       "2          1               0        113931.57       1  \n",
       "3          0               0         93826.63       0  \n",
       "4          1               1         79084.10       0  "
      ]
     },
     "execution_count": 9,
     "metadata": {},
     "output_type": "execute_result"
    }
   ],
   "source": [
    "#Delete unnecessary columns\n",
    "df.drop(columns=['RowNumber','CustomerId','Surname'],inplace=True)\n",
    "df.head()"
   ]
  },
  {
   "cell_type": "code",
   "execution_count": 10,
   "id": "e8187c51",
   "metadata": {
    "execution": {
     "iopub.execute_input": "2024-05-07T04:49:51.826124Z",
     "iopub.status.busy": "2024-05-07T04:49:51.825396Z",
     "iopub.status.idle": "2024-05-07T04:49:51.849916Z",
     "shell.execute_reply": "2024-05-07T04:49:51.848689Z"
    },
    "id": "ff1a0a72",
    "outputId": "4298b924-d982-4831-fa71-58209661107f",
    "papermill": {
     "duration": 0.044723,
     "end_time": "2024-05-07T04:49:51.852593",
     "exception": false,
     "start_time": "2024-05-07T04:49:51.807870",
     "status": "completed"
    },
    "tags": []
   },
   "outputs": [
    {
     "data": {
      "text/html": [
       "<div>\n",
       "<style scoped>\n",
       "    .dataframe tbody tr th:only-of-type {\n",
       "        vertical-align: middle;\n",
       "    }\n",
       "\n",
       "    .dataframe tbody tr th {\n",
       "        vertical-align: top;\n",
       "    }\n",
       "\n",
       "    .dataframe thead th {\n",
       "        text-align: right;\n",
       "    }\n",
       "</style>\n",
       "<table border=\"1\" class=\"dataframe\">\n",
       "  <thead>\n",
       "    <tr style=\"text-align: right;\">\n",
       "      <th></th>\n",
       "      <th>CreditScore</th>\n",
       "      <th>Geography</th>\n",
       "      <th>Gender</th>\n",
       "      <th>Age</th>\n",
       "      <th>Tenure</th>\n",
       "      <th>Balance</th>\n",
       "      <th>NumOfProducts</th>\n",
       "      <th>HasCrCard</th>\n",
       "      <th>IsActiveMember</th>\n",
       "      <th>EstimatedSalary</th>\n",
       "      <th>Exited</th>\n",
       "    </tr>\n",
       "  </thead>\n",
       "  <tbody>\n",
       "    <tr>\n",
       "      <th>0</th>\n",
       "      <td>619</td>\n",
       "      <td>0</td>\n",
       "      <td>0</td>\n",
       "      <td>42</td>\n",
       "      <td>2</td>\n",
       "      <td>0.00</td>\n",
       "      <td>1</td>\n",
       "      <td>1</td>\n",
       "      <td>1</td>\n",
       "      <td>101348.88</td>\n",
       "      <td>1</td>\n",
       "    </tr>\n",
       "    <tr>\n",
       "      <th>1</th>\n",
       "      <td>608</td>\n",
       "      <td>2</td>\n",
       "      <td>0</td>\n",
       "      <td>41</td>\n",
       "      <td>1</td>\n",
       "      <td>83807.86</td>\n",
       "      <td>1</td>\n",
       "      <td>0</td>\n",
       "      <td>1</td>\n",
       "      <td>112542.58</td>\n",
       "      <td>0</td>\n",
       "    </tr>\n",
       "    <tr>\n",
       "      <th>2</th>\n",
       "      <td>502</td>\n",
       "      <td>0</td>\n",
       "      <td>0</td>\n",
       "      <td>42</td>\n",
       "      <td>8</td>\n",
       "      <td>159660.80</td>\n",
       "      <td>3</td>\n",
       "      <td>1</td>\n",
       "      <td>0</td>\n",
       "      <td>113931.57</td>\n",
       "      <td>1</td>\n",
       "    </tr>\n",
       "    <tr>\n",
       "      <th>3</th>\n",
       "      <td>699</td>\n",
       "      <td>0</td>\n",
       "      <td>0</td>\n",
       "      <td>39</td>\n",
       "      <td>1</td>\n",
       "      <td>0.00</td>\n",
       "      <td>2</td>\n",
       "      <td>0</td>\n",
       "      <td>0</td>\n",
       "      <td>93826.63</td>\n",
       "      <td>0</td>\n",
       "    </tr>\n",
       "    <tr>\n",
       "      <th>4</th>\n",
       "      <td>850</td>\n",
       "      <td>2</td>\n",
       "      <td>0</td>\n",
       "      <td>43</td>\n",
       "      <td>2</td>\n",
       "      <td>125510.82</td>\n",
       "      <td>1</td>\n",
       "      <td>1</td>\n",
       "      <td>1</td>\n",
       "      <td>79084.10</td>\n",
       "      <td>0</td>\n",
       "    </tr>\n",
       "  </tbody>\n",
       "</table>\n",
       "</div>"
      ],
      "text/plain": [
       "   CreditScore  Geography  Gender  Age  Tenure    Balance  NumOfProducts  \\\n",
       "0          619          0       0   42       2       0.00              1   \n",
       "1          608          2       0   41       1   83807.86              1   \n",
       "2          502          0       0   42       8  159660.80              3   \n",
       "3          699          0       0   39       1       0.00              2   \n",
       "4          850          2       0   43       2  125510.82              1   \n",
       "\n",
       "   HasCrCard  IsActiveMember  EstimatedSalary  Exited  \n",
       "0          1               1        101348.88       1  \n",
       "1          0               1        112542.58       0  \n",
       "2          1               0        113931.57       1  \n",
       "3          0               0         93826.63       0  \n",
       "4          1               1         79084.10       0  "
      ]
     },
     "execution_count": 10,
     "metadata": {},
     "output_type": "execute_result"
    }
   ],
   "source": [
    "#Encoding\n",
    "labelencoder=LabelEncoder()\n",
    "df['Gender']=labelencoder.fit_transform(df['Gender'])\n",
    "df['Geography']=labelencoder.fit_transform(df['Geography'])\n",
    "df.head()"
   ]
  },
  {
   "cell_type": "code",
   "execution_count": 11,
   "id": "b9ed7da5",
   "metadata": {
    "execution": {
     "iopub.execute_input": "2024-05-07T04:49:51.889284Z",
     "iopub.status.busy": "2024-05-07T04:49:51.888598Z",
     "iopub.status.idle": "2024-05-07T04:49:51.896756Z",
     "shell.execute_reply": "2024-05-07T04:49:51.895814Z"
    },
    "id": "e90eba69",
    "outputId": "ec76e997-e72d-45c8-dc8e-88fc10bb590b",
    "papermill": {
     "duration": 0.029591,
     "end_time": "2024-05-07T04:49:51.899159",
     "exception": false,
     "start_time": "2024-05-07T04:49:51.869568",
     "status": "completed"
    },
    "tags": []
   },
   "outputs": [
    {
     "data": {
      "text/plain": [
       "CreditScore          int64\n",
       "Geography            int64\n",
       "Gender               int64\n",
       "Age                  int64\n",
       "Tenure               int64\n",
       "Balance            float64\n",
       "NumOfProducts        int64\n",
       "HasCrCard            int64\n",
       "IsActiveMember       int64\n",
       "EstimatedSalary    float64\n",
       "Exited               int64\n",
       "dtype: object"
      ]
     },
     "execution_count": 11,
     "metadata": {},
     "output_type": "execute_result"
    }
   ],
   "source": [
    "df.dtypes"
   ]
  },
  {
   "cell_type": "code",
   "execution_count": 12,
   "id": "7448730c",
   "metadata": {
    "execution": {
     "iopub.execute_input": "2024-05-07T04:49:51.934195Z",
     "iopub.status.busy": "2024-05-07T04:49:51.933767Z",
     "iopub.status.idle": "2024-05-07T04:49:51.940439Z",
     "shell.execute_reply": "2024-05-07T04:49:51.939565Z"
    },
    "id": "240633ab",
    "papermill": {
     "duration": 0.027264,
     "end_time": "2024-05-07T04:49:51.943062",
     "exception": false,
     "start_time": "2024-05-07T04:49:51.915798",
     "status": "completed"
    },
    "tags": []
   },
   "outputs": [],
   "source": [
    "#Droping coulmn from the features\n",
    "x=df.drop(columns='Exited')\n",
    "y=df['Exited']"
   ]
  },
  {
   "cell_type": "code",
   "execution_count": 13,
   "id": "631ce57e",
   "metadata": {
    "execution": {
     "iopub.execute_input": "2024-05-07T04:49:51.978337Z",
     "iopub.status.busy": "2024-05-07T04:49:51.977782Z",
     "iopub.status.idle": "2024-05-07T04:49:51.994280Z",
     "shell.execute_reply": "2024-05-07T04:49:51.992223Z"
    },
    "id": "a9444672",
    "papermill": {
     "duration": 0.038155,
     "end_time": "2024-05-07T04:49:51.997745",
     "exception": false,
     "start_time": "2024-05-07T04:49:51.959590",
     "status": "completed"
    },
    "tags": []
   },
   "outputs": [],
   "source": [
    "x_train,x_test,y_train,y_test=train_test_split(x,y,test_size=0.3,shuffle=True,random_state=40)"
   ]
  },
  {
   "cell_type": "markdown",
   "id": "3b3485b1",
   "metadata": {
    "id": "Zfco1hDkL5zy",
    "papermill": {
     "duration": 0.016969,
     "end_time": "2024-05-07T04:49:52.032248",
     "exception": false,
     "start_time": "2024-05-07T04:49:52.015279",
     "status": "completed"
    },
    "tags": []
   },
   "source": [
    "# Random Forest"
   ]
  },
  {
   "cell_type": "code",
   "execution_count": 14,
   "id": "283eb8c4",
   "metadata": {
    "execution": {
     "iopub.execute_input": "2024-05-07T04:49:52.070724Z",
     "iopub.status.busy": "2024-05-07T04:49:52.070038Z",
     "iopub.status.idle": "2024-05-07T04:49:53.362203Z",
     "shell.execute_reply": "2024-05-07T04:49:53.360930Z"
    },
    "id": "1f5cf13e",
    "outputId": "6dac25cf-42ce-4158-adb4-612d3c387ed1",
    "papermill": {
     "duration": 1.315714,
     "end_time": "2024-05-07T04:49:53.365214",
     "exception": false,
     "start_time": "2024-05-07T04:49:52.049500",
     "status": "completed"
    },
    "tags": []
   },
   "outputs": [
    {
     "data": {
      "text/html": [
       "<style>#sk-container-id-1 {color: black;background-color: white;}#sk-container-id-1 pre{padding: 0;}#sk-container-id-1 div.sk-toggleable {background-color: white;}#sk-container-id-1 label.sk-toggleable__label {cursor: pointer;display: block;width: 100%;margin-bottom: 0;padding: 0.3em;box-sizing: border-box;text-align: center;}#sk-container-id-1 label.sk-toggleable__label-arrow:before {content: \"▸\";float: left;margin-right: 0.25em;color: #696969;}#sk-container-id-1 label.sk-toggleable__label-arrow:hover:before {color: black;}#sk-container-id-1 div.sk-estimator:hover label.sk-toggleable__label-arrow:before {color: black;}#sk-container-id-1 div.sk-toggleable__content {max-height: 0;max-width: 0;overflow: hidden;text-align: left;background-color: #f0f8ff;}#sk-container-id-1 div.sk-toggleable__content pre {margin: 0.2em;color: black;border-radius: 0.25em;background-color: #f0f8ff;}#sk-container-id-1 input.sk-toggleable__control:checked~div.sk-toggleable__content {max-height: 200px;max-width: 100%;overflow: auto;}#sk-container-id-1 input.sk-toggleable__control:checked~label.sk-toggleable__label-arrow:before {content: \"▾\";}#sk-container-id-1 div.sk-estimator input.sk-toggleable__control:checked~label.sk-toggleable__label {background-color: #d4ebff;}#sk-container-id-1 div.sk-label input.sk-toggleable__control:checked~label.sk-toggleable__label {background-color: #d4ebff;}#sk-container-id-1 input.sk-hidden--visually {border: 0;clip: rect(1px 1px 1px 1px);clip: rect(1px, 1px, 1px, 1px);height: 1px;margin: -1px;overflow: hidden;padding: 0;position: absolute;width: 1px;}#sk-container-id-1 div.sk-estimator {font-family: monospace;background-color: #f0f8ff;border: 1px dotted black;border-radius: 0.25em;box-sizing: border-box;margin-bottom: 0.5em;}#sk-container-id-1 div.sk-estimator:hover {background-color: #d4ebff;}#sk-container-id-1 div.sk-parallel-item::after {content: \"\";width: 100%;border-bottom: 1px solid gray;flex-grow: 1;}#sk-container-id-1 div.sk-label:hover label.sk-toggleable__label {background-color: #d4ebff;}#sk-container-id-1 div.sk-serial::before {content: \"\";position: absolute;border-left: 1px solid gray;box-sizing: border-box;top: 0;bottom: 0;left: 50%;z-index: 0;}#sk-container-id-1 div.sk-serial {display: flex;flex-direction: column;align-items: center;background-color: white;padding-right: 0.2em;padding-left: 0.2em;position: relative;}#sk-container-id-1 div.sk-item {position: relative;z-index: 1;}#sk-container-id-1 div.sk-parallel {display: flex;align-items: stretch;justify-content: center;background-color: white;position: relative;}#sk-container-id-1 div.sk-item::before, #sk-container-id-1 div.sk-parallel-item::before {content: \"\";position: absolute;border-left: 1px solid gray;box-sizing: border-box;top: 0;bottom: 0;left: 50%;z-index: -1;}#sk-container-id-1 div.sk-parallel-item {display: flex;flex-direction: column;z-index: 1;position: relative;background-color: white;}#sk-container-id-1 div.sk-parallel-item:first-child::after {align-self: flex-end;width: 50%;}#sk-container-id-1 div.sk-parallel-item:last-child::after {align-self: flex-start;width: 50%;}#sk-container-id-1 div.sk-parallel-item:only-child::after {width: 0;}#sk-container-id-1 div.sk-dashed-wrapped {border: 1px dashed gray;margin: 0 0.4em 0.5em 0.4em;box-sizing: border-box;padding-bottom: 0.4em;background-color: white;}#sk-container-id-1 div.sk-label label {font-family: monospace;font-weight: bold;display: inline-block;line-height: 1.2em;}#sk-container-id-1 div.sk-label-container {text-align: center;}#sk-container-id-1 div.sk-container {/* jupyter's `normalize.less` sets `[hidden] { display: none; }` but bootstrap.min.css set `[hidden] { display: none !important; }` so we also need the `!important` here to be able to override the default hidden behavior on the sphinx rendered scikit-learn.org. See: https://github.com/scikit-learn/scikit-learn/issues/21755 */display: inline-block !important;position: relative;}#sk-container-id-1 div.sk-text-repr-fallback {display: none;}</style><div id=\"sk-container-id-1\" class=\"sk-top-container\"><div class=\"sk-text-repr-fallback\"><pre>RandomForestClassifier()</pre><b>In a Jupyter environment, please rerun this cell to show the HTML representation or trust the notebook. <br />On GitHub, the HTML representation is unable to render, please try loading this page with nbviewer.org.</b></div><div class=\"sk-container\" hidden><div class=\"sk-item\"><div class=\"sk-estimator sk-toggleable\"><input class=\"sk-toggleable__control sk-hidden--visually\" id=\"sk-estimator-id-1\" type=\"checkbox\" checked><label for=\"sk-estimator-id-1\" class=\"sk-toggleable__label sk-toggleable__label-arrow\">RandomForestClassifier</label><div class=\"sk-toggleable__content\"><pre>RandomForestClassifier()</pre></div></div></div></div></div>"
      ],
      "text/plain": [
       "RandomForestClassifier()"
      ]
     },
     "execution_count": 14,
     "metadata": {},
     "output_type": "execute_result"
    }
   ],
   "source": [
    "#Create Random Forest Classifier model\n",
    "model=RandomForestClassifier()\n",
    "model.fit(x_train,y_train)"
   ]
  },
  {
   "cell_type": "code",
   "execution_count": 15,
   "id": "ebb5fa91",
   "metadata": {
    "execution": {
     "iopub.execute_input": "2024-05-07T04:49:53.399839Z",
     "iopub.status.busy": "2024-05-07T04:49:53.399393Z",
     "iopub.status.idle": "2024-05-07T04:49:53.537269Z",
     "shell.execute_reply": "2024-05-07T04:49:53.536144Z"
    },
    "id": "71d5a849",
    "outputId": "fd4d2cc4-5acb-4cbe-d3f2-d44e30ff8290",
    "papermill": {
     "duration": 0.158019,
     "end_time": "2024-05-07T04:49:53.539820",
     "exception": false,
     "start_time": "2024-05-07T04:49:53.381801",
     "status": "completed"
    },
    "tags": []
   },
   "outputs": [
    {
     "data": {
      "text/plain": [
       "1.0"
      ]
     },
     "execution_count": 15,
     "metadata": {},
     "output_type": "execute_result"
    }
   ],
   "source": [
    "#Model score\n",
    "model.score(x_train,y_train)"
   ]
  },
  {
   "cell_type": "code",
   "execution_count": 16,
   "id": "dda0dcb0",
   "metadata": {
    "execution": {
     "iopub.execute_input": "2024-05-07T04:49:53.575586Z",
     "iopub.status.busy": "2024-05-07T04:49:53.574307Z",
     "iopub.status.idle": "2024-05-07T04:49:53.647473Z",
     "shell.execute_reply": "2024-05-07T04:49:53.646148Z"
    },
    "id": "750fa925",
    "outputId": "4fdafd08-1fc9-4400-9d7a-d6f322eff3ab",
    "papermill": {
     "duration": 0.093588,
     "end_time": "2024-05-07T04:49:53.649922",
     "exception": false,
     "start_time": "2024-05-07T04:49:53.556334",
     "status": "completed"
    },
    "tags": []
   },
   "outputs": [
    {
     "data": {
      "text/plain": [
       "array([0, 0, 0, ..., 1, 0, 1])"
      ]
     },
     "execution_count": 16,
     "metadata": {},
     "output_type": "execute_result"
    }
   ],
   "source": [
    "#Prediction\n",
    "y_pred = model.predict(x_test)\n",
    "y_pred"
   ]
  },
  {
   "cell_type": "code",
   "execution_count": 17,
   "id": "6c62f5b5",
   "metadata": {
    "execution": {
     "iopub.execute_input": "2024-05-07T04:49:53.684844Z",
     "iopub.status.busy": "2024-05-07T04:49:53.684457Z",
     "iopub.status.idle": "2024-05-07T04:49:53.692081Z",
     "shell.execute_reply": "2024-05-07T04:49:53.690745Z"
    },
    "id": "2bd27bf7",
    "outputId": "3d5706c2-0fc4-496f-8068-b35bb24abb44",
    "papermill": {
     "duration": 0.028391,
     "end_time": "2024-05-07T04:49:53.694728",
     "exception": false,
     "start_time": "2024-05-07T04:49:53.666337",
     "status": "completed"
    },
    "tags": []
   },
   "outputs": [
    {
     "data": {
      "text/plain": [
       "3000"
      ]
     },
     "execution_count": 17,
     "metadata": {},
     "output_type": "execute_result"
    }
   ],
   "source": [
    "#Length\n",
    "len(y_pred)"
   ]
  },
  {
   "cell_type": "code",
   "execution_count": 18,
   "id": "e9c8cdfb",
   "metadata": {
    "execution": {
     "iopub.execute_input": "2024-05-07T04:49:53.730398Z",
     "iopub.status.busy": "2024-05-07T04:49:53.729932Z",
     "iopub.status.idle": "2024-05-07T04:49:53.739862Z",
     "shell.execute_reply": "2024-05-07T04:49:53.738245Z"
    },
    "id": "42f7b8c5",
    "outputId": "57157b1f-144a-4d82-91e6-63251046c58c",
    "papermill": {
     "duration": 0.031032,
     "end_time": "2024-05-07T04:49:53.742714",
     "exception": false,
     "start_time": "2024-05-07T04:49:53.711682",
     "status": "completed"
    },
    "tags": []
   },
   "outputs": [
    {
     "name": "stdout",
     "output_type": "stream",
     "text": [
      "Accuracy: 85.87%\n"
     ]
    }
   ],
   "source": [
    "#Accuracy\n",
    "accuracy = accuracy_score(y_test, y_pred)\n",
    "print(\"Accuracy: {:.2f}%\".format(accuracy * 100))"
   ]
  },
  {
   "cell_type": "code",
   "execution_count": 19,
   "id": "47bbec33",
   "metadata": {
    "execution": {
     "iopub.execute_input": "2024-05-07T04:49:53.781101Z",
     "iopub.status.busy": "2024-05-07T04:49:53.780697Z",
     "iopub.status.idle": "2024-05-07T04:49:54.162067Z",
     "shell.execute_reply": "2024-05-07T04:49:54.160818Z"
    },
    "id": "2c194a64",
    "outputId": "e23ab2b2-3ee9-492e-ff5b-19ba6987aefb",
    "papermill": {
     "duration": 0.404493,
     "end_time": "2024-05-07T04:49:54.165406",
     "exception": false,
     "start_time": "2024-05-07T04:49:53.760913",
     "status": "completed"
    },
    "tags": []
   },
   "outputs": [
    {
     "data": {
      "image/png": "[encoded data removed]",
      "text/plain": [
       "<Figure size 1000x500 with 1 Axes>"
      ]
     },
     "metadata": {},
     "output_type": "display_data"
    }
   ],
   "source": [
    "#Visualization\n",
    "y_prob = model.predict_proba(x_test)[:, 1]\n",
    "fpr, tpr, thresholds = roc_curve(y_test, y_prob)\n",
    "\n",
    "plt.figure(figsize=(10, 5))\n",
    "plt.plot(fpr, tpr, color='red', lw=2)\n",
    "plt.plot([0, 1], [0, 1], color='black', lw=2)\n",
    "plt.xlabel('False Positive Rate')\n",
    "plt.ylabel('True Positive Rate')\n",
    "plt.title('RandomForestClassifier\\nAccuracy: {:.2f}%'.format(accuracy * 100))\n",
    "plt.show()"
   ]
  },
  {
   "cell_type": "markdown",
   "id": "92e8d076",
   "metadata": {
    "id": "5L3IhDl5aAPZ",
    "papermill": {
     "duration": 0.021621,
     "end_time": "2024-05-07T04:49:54.205993",
     "exception": false,
     "start_time": "2024-05-07T04:49:54.184372",
     "status": "completed"
    },
    "tags": []
   },
   "source": [
    "# Logistic Regression"
   ]
  },
  {
   "cell_type": "code",
   "execution_count": 20,
   "id": "39904e28",
   "metadata": {
    "execution": {
     "iopub.execute_input": "2024-05-07T04:49:54.244976Z",
     "iopub.status.busy": "2024-05-07T04:49:54.244187Z",
     "iopub.status.idle": "2024-05-07T04:49:54.331903Z",
     "shell.execute_reply": "2024-05-07T04:49:54.330688Z"
    },
    "id": "Ka7tg2i3MKp6",
    "outputId": "b17e7e99-bd6a-4a47-806a-5d837a49dd94",
    "papermill": {
     "duration": 0.112061,
     "end_time": "2024-05-07T04:49:54.336098",
     "exception": false,
     "start_time": "2024-05-07T04:49:54.224037",
     "status": "completed"
    },
    "tags": []
   },
   "outputs": [
    {
     "data": {
      "text/html": [
       "<style>#sk-container-id-2 {color: black;background-color: white;}#sk-container-id-2 pre{padding: 0;}#sk-container-id-2 div.sk-toggleable {background-color: white;}#sk-container-id-2 label.sk-toggleable__label {cursor: pointer;display: block;width: 100%;margin-bottom: 0;padding: 0.3em;box-sizing: border-box;text-align: center;}#sk-container-id-2 label.sk-toggleable__label-arrow:before {content: \"▸\";float: left;margin-right: 0.25em;color: #696969;}#sk-container-id-2 label.sk-toggleable__label-arrow:hover:before {color: black;}#sk-container-id-2 div.sk-estimator:hover label.sk-toggleable__label-arrow:before {color: black;}#sk-container-id-2 div.sk-toggleable__content {max-height: 0;max-width: 0;overflow: hidden;text-align: left;background-color: #f0f8ff;}#sk-container-id-2 div.sk-toggleable__content pre {margin: 0.2em;color: black;border-radius: 0.25em;background-color: #f0f8ff;}#sk-container-id-2 input.sk-toggleable__control:checked~div.sk-toggleable__content {max-height: 200px;max-width: 100%;overflow: auto;}#sk-container-id-2 input.sk-toggleable__control:checked~label.sk-toggleable__label-arrow:before {content: \"▾\";}#sk-container-id-2 div.sk-estimator input.sk-toggleable__control:checked~label.sk-toggleable__label {background-color: #d4ebff;}#sk-container-id-2 div.sk-label input.sk-toggleable__control:checked~label.sk-toggleable__label {background-color: #d4ebff;}#sk-container-id-2 input.sk-hidden--visually {border: 0;clip: rect(1px 1px 1px 1px);clip: rect(1px, 1px, 1px, 1px);height: 1px;margin: -1px;overflow: hidden;padding: 0;position: absolute;width: 1px;}#sk-container-id-2 div.sk-estimator {font-family: monospace;background-color: #f0f8ff;border: 1px dotted black;border-radius: 0.25em;box-sizing: border-box;margin-bottom: 0.5em;}#sk-container-id-2 div.sk-estimator:hover {background-color: #d4ebff;}#sk-container-id-2 div.sk-parallel-item::after {content: \"\";width: 100%;border-bottom: 1px solid gray;flex-grow: 1;}#sk-container-id-2 div.sk-label:hover label.sk-toggleable__label {background-color: #d4ebff;}#sk-container-id-2 div.sk-serial::before {content: \"\";position: absolute;border-left: 1px solid gray;box-sizing: border-box;top: 0;bottom: 0;left: 50%;z-index: 0;}#sk-container-id-2 div.sk-serial {display: flex;flex-direction: column;align-items: center;background-color: white;padding-right: 0.2em;padding-left: 0.2em;position: relative;}#sk-container-id-2 div.sk-item {position: relative;z-index: 1;}#sk-container-id-2 div.sk-parallel {display: flex;align-items: stretch;justify-content: center;background-color: white;position: relative;}#sk-container-id-2 div.sk-item::before, #sk-container-id-2 div.sk-parallel-item::before {content: \"\";position: absolute;border-left: 1px solid gray;box-sizing: border-box;top: 0;bottom: 0;left: 50%;z-index: -1;}#sk-container-id-2 div.sk-parallel-item {display: flex;flex-direction: column;z-index: 1;position: relative;background-color: white;}#sk-container-id-2 div.sk-parallel-item:first-child::after {align-self: flex-end;width: 50%;}#sk-container-id-2 div.sk-parallel-item:last-child::after {align-self: flex-start;width: 50%;}#sk-container-id-2 div.sk-parallel-item:only-child::after {width: 0;}#sk-container-id-2 div.sk-dashed-wrapped {border: 1px dashed gray;margin: 0 0.4em 0.5em 0.4em;box-sizing: border-box;padding-bottom: 0.4em;background-color: white;}#sk-container-id-2 div.sk-label label {font-family: monospace;font-weight: bold;display: inline-block;line-height: 1.2em;}#sk-container-id-2 div.sk-label-container {text-align: center;}#sk-container-id-2 div.sk-container {/* jupyter's `normalize.less` sets `[hidden] { display: none; }` but bootstrap.min.css set `[hidden] { display: none !important; }` so we also need the `!important` here to be able to override the default hidden behavior on the sphinx rendered scikit-learn.org. See: https://github.com/scikit-learn/scikit-learn/issues/21755 */display: inline-block !important;position: relative;}#sk-container-id-2 div.sk-text-repr-fallback {display: none;}</style><div id=\"sk-container-id-2\" class=\"sk-top-container\"><div class=\"sk-text-repr-fallback\"><pre>LogisticRegression()</pre><b>In a Jupyter environment, please rerun this cell to show the HTML representation or trust the notebook. <br />On GitHub, the HTML representation is unable to render, please try loading this page with nbviewer.org.</b></div><div class=\"sk-container\" hidden><div class=\"sk-item\"><div class=\"sk-estimator sk-toggleable\"><input class=\"sk-toggleable__control sk-hidden--visually\" id=\"sk-estimator-id-2\" type=\"checkbox\" checked><label for=\"sk-estimator-id-2\" class=\"sk-toggleable__label sk-toggleable__label-arrow\">LogisticRegression</label><div class=\"sk-toggleable__content\"><pre>LogisticRegression()</pre></div></div></div></div></div>"
      ],
      "text/plain": [
       "LogisticRegression()"
      ]
     },
     "execution_count": 20,
     "metadata": {},
     "output_type": "execute_result"
    }
   ],
   "source": [
    "#Create Logistic Regression model\n",
    "model=LogisticRegression()\n",
    "model.fit(x_train,y_train)"
   ]
  },
  {
   "cell_type": "code",
   "execution_count": 21,
   "id": "2071535e",
   "metadata": {
    "execution": {
     "iopub.execute_input": "2024-05-07T04:49:54.418551Z",
     "iopub.status.busy": "2024-05-07T04:49:54.417787Z",
     "iopub.status.idle": "2024-05-07T04:49:54.439226Z",
     "shell.execute_reply": "2024-05-07T04:49:54.438005Z"
    },
    "id": "LnQWWnDKee61",
    "outputId": "8f927879-8b0e-465a-9f84-807b09ac289b",
    "papermill": {
     "duration": 0.065907,
     "end_time": "2024-05-07T04:49:54.443155",
     "exception": false,
     "start_time": "2024-05-07T04:49:54.377248",
     "status": "completed"
    },
    "tags": []
   },
   "outputs": [
    {
     "name": "stdout",
     "output_type": "stream",
     "text": [
      "0.7902857142857143\n"
     ]
    }
   ],
   "source": [
    "#Model Score\n",
    "model_score=model.score(x_train,y_train)\n",
    "print(model_score)"
   ]
  },
  {
   "cell_type": "code",
   "execution_count": 22,
   "id": "7b4b8016",
   "metadata": {
    "execution": {
     "iopub.execute_input": "2024-05-07T04:49:54.526416Z",
     "iopub.status.busy": "2024-05-07T04:49:54.525608Z",
     "iopub.status.idle": "2024-05-07T04:49:54.554872Z",
     "shell.execute_reply": "2024-05-07T04:49:54.553076Z"
    },
    "id": "Jb9zjkRjeuhH",
    "outputId": "7e58ecc6-9cfc-49d7-f604-c3fe9e6fbae5",
    "papermill": {
     "duration": 0.076404,
     "end_time": "2024-05-07T04:49:54.560063",
     "exception": false,
     "start_time": "2024-05-07T04:49:54.483659",
     "status": "completed"
    },
    "tags": []
   },
   "outputs": [
    {
     "name": "stdout",
     "output_type": "stream",
     "text": [
      "[0 0 0 ... 0 0 0]\n"
     ]
    }
   ],
   "source": [
    "#Prediction\n",
    "y_pred=model.predict(x_test)\n",
    "print(y_pred)"
   ]
  },
  {
   "cell_type": "code",
   "execution_count": 23,
   "id": "c912e331",
   "metadata": {
    "execution": {
     "iopub.execute_input": "2024-05-07T04:49:54.644427Z",
     "iopub.status.busy": "2024-05-07T04:49:54.643652Z",
     "iopub.status.idle": "2024-05-07T04:49:54.659756Z",
     "shell.execute_reply": "2024-05-07T04:49:54.658040Z"
    },
    "id": "wFr6H1pLfSPv",
    "outputId": "49f14438-a5e9-4969-8c5a-ddb9b4cce3e1",
    "papermill": {
     "duration": 0.063988,
     "end_time": "2024-05-07T04:49:54.664470",
     "exception": false,
     "start_time": "2024-05-07T04:49:54.600482",
     "status": "completed"
    },
    "tags": []
   },
   "outputs": [
    {
     "name": "stdout",
     "output_type": "stream",
     "text": [
      "Accuracy: 78.90%\n"
     ]
    }
   ],
   "source": [
    "#Accuracy\n",
    "accuracy=accuracy_score(y_test, y_pred)\n",
    "print(\"Accuracy: {:.2f}%\".format(accuracy * 100))"
   ]
  },
  {
   "cell_type": "code",
   "execution_count": 24,
   "id": "898eeaaf",
   "metadata": {
    "execution": {
     "iopub.execute_input": "2024-05-07T04:49:54.704346Z",
     "iopub.status.busy": "2024-05-07T04:49:54.703286Z",
     "iopub.status.idle": "2024-05-07T04:49:55.068978Z",
     "shell.execute_reply": "2024-05-07T04:49:55.067741Z"
    },
    "id": "MAUCHF3RfjEu",
    "outputId": "94230401-56c5-44ac-a2be-9f09f4194005",
    "papermill": {
     "duration": 0.389204,
     "end_time": "2024-05-07T04:49:55.072313",
     "exception": false,
     "start_time": "2024-05-07T04:49:54.683109",
     "status": "completed"
    },
    "tags": []
   },
   "outputs": [
    {
     "data": {
      "image/png": "[encoded data removed]",
      "text/plain": [
       "<Figure size 1000x500 with 1 Axes>"
      ]
     },
     "metadata": {},
     "output_type": "display_data"
    }
   ],
   "source": [
    "#Visualization\n",
    "y_prob = model.predict_proba(x_test)[:, 1]\n",
    "fpr, tpr, thresholds = roc_curve(y_test, y_prob)\n",
    "\n",
    "plt.figure(figsize=(10, 5))\n",
    "plt.plot(fpr, tpr, color='blue', lw=2)\n",
    "plt.plot([0, 1], [0, 1], color='black', lw=2)\n",
    "plt.xlabel('False Positive Rate')\n",
    "plt.ylabel('True Positive Rate')\n",
    "plt.title('Logistic Regression\\nAccuracy: {:.2f}%'.format(accuracy * 100))\n",
    "plt.show()"
   ]
  },
  {
   "cell_type": "markdown",
   "id": "df3042eb",
   "metadata": {
    "id": "KctnQ4tagH9z",
    "papermill": {
     "duration": 0.019431,
     "end_time": "2024-05-07T04:49:55.211227",
     "exception": false,
     "start_time": "2024-05-07T04:49:55.191796",
     "status": "completed"
    },
    "tags": []
   },
   "source": [
    "# Gradient Boosting"
   ]
  },
  {
   "cell_type": "code",
   "execution_count": 25,
   "id": "bafff560",
   "metadata": {
    "execution": {
     "iopub.execute_input": "2024-05-07T04:49:55.255404Z",
     "iopub.status.busy": "2024-05-07T04:49:55.254322Z",
     "iopub.status.idle": "2024-05-07T04:49:56.413178Z",
     "shell.execute_reply": "2024-05-07T04:49:56.411586Z"
    },
    "id": "mOpou6cvgEVf",
    "outputId": "c6f4b493-6ead-4eae-db53-7d2d9b01b94e",
    "papermill": {
     "duration": 1.185331,
     "end_time": "2024-05-07T04:49:56.416265",
     "exception": false,
     "start_time": "2024-05-07T04:49:55.230934",
     "status": "completed"
    },
    "tags": []
   },
   "outputs": [
    {
     "data": {
      "text/html": [
       "<style>#sk-container-id-3 {color: black;background-color: white;}#sk-container-id-3 pre{padding: 0;}#sk-container-id-3 div.sk-toggleable {background-color: white;}#sk-container-id-3 label.sk-toggleable__label {cursor: pointer;display: block;width: 100%;margin-bottom: 0;padding: 0.3em;box-sizing: border-box;text-align: center;}#sk-container-id-3 label.sk-toggleable__label-arrow:before {content: \"▸\";float: left;margin-right: 0.25em;color: #696969;}#sk-container-id-3 label.sk-toggleable__label-arrow:hover:before {color: black;}#sk-container-id-3 div.sk-estimator:hover label.sk-toggleable__label-arrow:before {color: black;}#sk-container-id-3 div.sk-toggleable__content {max-height: 0;max-width: 0;overflow: hidden;text-align: left;background-color: #f0f8ff;}#sk-container-id-3 div.sk-toggleable__content pre {margin: 0.2em;color: black;border-radius: 0.25em;background-color: #f0f8ff;}#sk-container-id-3 input.sk-toggleable__control:checked~div.sk-toggleable__content {max-height: 200px;max-width: 100%;overflow: auto;}#sk-container-id-3 input.sk-toggleable__control:checked~label.sk-toggleable__label-arrow:before {content: \"▾\";}#sk-container-id-3 div.sk-estimator input.sk-toggleable__control:checked~label.sk-toggleable__label {background-color: #d4ebff;}#sk-container-id-3 div.sk-label input.sk-toggleable__control:checked~label.sk-toggleable__label {background-color: #d4ebff;}#sk-container-id-3 input.sk-hidden--visually {border: 0;clip: rect(1px 1px 1px 1px);clip: rect(1px, 1px, 1px, 1px);height: 1px;margin: -1px;overflow: hidden;padding: 0;position: absolute;width: 1px;}#sk-container-id-3 div.sk-estimator {font-family: monospace;background-color: #f0f8ff;border: 1px dotted black;border-radius: 0.25em;box-sizing: border-box;margin-bottom: 0.5em;}#sk-container-id-3 div.sk-estimator:hover {background-color: #d4ebff;}#sk-container-id-3 div.sk-parallel-item::after {content: \"\";width: 100%;border-bottom: 1px solid gray;flex-grow: 1;}#sk-container-id-3 div.sk-label:hover label.sk-toggleable__label {background-color: #d4ebff;}#sk-container-id-3 div.sk-serial::before {content: \"\";position: absolute;border-left: 1px solid gray;box-sizing: border-box;top: 0;bottom: 0;left: 50%;z-index: 0;}#sk-container-id-3 div.sk-serial {display: flex;flex-direction: column;align-items: center;background-color: white;padding-right: 0.2em;padding-left: 0.2em;position: relative;}#sk-container-id-3 div.sk-item {position: relative;z-index: 1;}#sk-container-id-3 div.sk-parallel {display: flex;align-items: stretch;justify-content: center;background-color: white;position: relative;}#sk-container-id-3 div.sk-item::before, #sk-container-id-3 div.sk-parallel-item::before {content: \"\";position: absolute;border-left: 1px solid gray;box-sizing: border-box;top: 0;bottom: 0;left: 50%;z-index: -1;}#sk-container-id-3 div.sk-parallel-item {display: flex;flex-direction: column;z-index: 1;position: relative;background-color: white;}#sk-container-id-3 div.sk-parallel-item:first-child::after {align-self: flex-end;width: 50%;}#sk-container-id-3 div.sk-parallel-item:last-child::after {align-self: flex-start;width: 50%;}#sk-container-id-3 div.sk-parallel-item:only-child::after {width: 0;}#sk-container-id-3 div.sk-dashed-wrapped {border: 1px dashed gray;margin: 0 0.4em 0.5em 0.4em;box-sizing: border-box;padding-bottom: 0.4em;background-color: white;}#sk-container-id-3 div.sk-label label {font-family: monospace;font-weight: bold;display: inline-block;line-height: 1.2em;}#sk-container-id-3 div.sk-label-container {text-align: center;}#sk-container-id-3 div.sk-container {/* jupyter's `normalize.less` sets `[hidden] { display: none; }` but bootstrap.min.css set `[hidden] { display: none !important; }` so we also need the `!important` here to be able to override the default hidden behavior on the sphinx rendered scikit-learn.org. See: https://github.com/scikit-learn/scikit-learn/issues/21755 */display: inline-block !important;position: relative;}#sk-container-id-3 div.sk-text-repr-fallback {display: none;}</style><div id=\"sk-container-id-3\" class=\"sk-top-container\"><div class=\"sk-text-repr-fallback\"><pre>GradientBoostingClassifier()</pre><b>In a Jupyter environment, please rerun this cell to show the HTML representation or trust the notebook. <br />On GitHub, the HTML representation is unable to render, please try loading this page with nbviewer.org.</b></div><div class=\"sk-container\" hidden><div class=\"sk-item\"><div class=\"sk-estimator sk-toggleable\"><input class=\"sk-toggleable__control sk-hidden--visually\" id=\"sk-estimator-id-3\" type=\"checkbox\" checked><label for=\"sk-estimator-id-3\" class=\"sk-toggleable__label sk-toggleable__label-arrow\">GradientBoostingClassifier</label><div class=\"sk-toggleable__content\"><pre>GradientBoostingClassifier()</pre></div></div></div></div></div>"
      ],
      "text/plain": [
       "GradientBoostingClassifier()"
      ]
     },
     "execution_count": 25,
     "metadata": {},
     "output_type": "execute_result"
    }
   ],
   "source": [
    "#Create Gradient Boosting model\n",
    "model=GradientBoostingClassifier()\n",
    "model.fit(x_train,y_train)"
   ]
  },
  {
   "cell_type": "code",
   "execution_count": 26,
   "id": "8d8241e8",
   "metadata": {
    "execution": {
     "iopub.execute_input": "2024-05-07T04:49:56.460419Z",
     "iopub.status.busy": "2024-05-07T04:49:56.459660Z",
     "iopub.status.idle": "2024-05-07T04:49:56.485060Z",
     "shell.execute_reply": "2024-05-07T04:49:56.483228Z"
    },
    "id": "uqS9ck5IhGvB",
    "outputId": "2f5d3cff-2331-4765-f2bf-93a20a53e1b3",
    "papermill": {
     "duration": 0.050933,
     "end_time": "2024-05-07T04:49:56.488053",
     "exception": false,
     "start_time": "2024-05-07T04:49:56.437120",
     "status": "completed"
    },
    "tags": []
   },
   "outputs": [
    {
     "name": "stdout",
     "output_type": "stream",
     "text": [
      "0.8734285714285714\n"
     ]
    }
   ],
   "source": [
    "#Model Score\n",
    "model_score=model.score(x_train, y_train)\n",
    "print(model_score)"
   ]
  },
  {
   "cell_type": "code",
   "execution_count": 27,
   "id": "3b93e9f9",
   "metadata": {
    "execution": {
     "iopub.execute_input": "2024-05-07T04:49:56.530385Z",
     "iopub.status.busy": "2024-05-07T04:49:56.529887Z",
     "iopub.status.idle": "2024-05-07T04:49:56.547795Z",
     "shell.execute_reply": "2024-05-07T04:49:56.545975Z"
    },
    "id": "7UEgfHALhNCC",
    "outputId": "ffe42d63-9981-4671-d0fe-25f9ce5b1d84",
    "papermill": {
     "duration": 0.042431,
     "end_time": "2024-05-07T04:49:56.550428",
     "exception": false,
     "start_time": "2024-05-07T04:49:56.507997",
     "status": "completed"
    },
    "tags": []
   },
   "outputs": [
    {
     "name": "stdout",
     "output_type": "stream",
     "text": [
      "[0 0 0 ... 1 0 1]\n"
     ]
    }
   ],
   "source": [
    "#Prediction\n",
    "y_pred = model.predict(x_test)\n",
    "print(y_pred)"
   ]
  },
  {
   "cell_type": "code",
   "execution_count": 28,
   "id": "bce0aa16",
   "metadata": {
    "execution": {
     "iopub.execute_input": "2024-05-07T04:49:56.594127Z",
     "iopub.status.busy": "2024-05-07T04:49:56.592664Z",
     "iopub.status.idle": "2024-05-07T04:49:56.601174Z",
     "shell.execute_reply": "2024-05-07T04:49:56.599707Z"
    },
    "id": "L6unQbVvhSda",
    "outputId": "dc89b485-a0e8-4999-fa6d-039c14d03e93",
    "papermill": {
     "duration": 0.033483,
     "end_time": "2024-05-07T04:49:56.603666",
     "exception": false,
     "start_time": "2024-05-07T04:49:56.570183",
     "status": "completed"
    },
    "tags": []
   },
   "outputs": [
    {
     "name": "stdout",
     "output_type": "stream",
     "text": [
      "Accuracy: 86.40%\n"
     ]
    }
   ],
   "source": [
    "#Accuracy\n",
    "accuracy=accuracy_score(y_test, y_pred)\n",
    "print(\"Accuracy: {:.2f}%\".format(accuracy * 100))"
   ]
  },
  {
   "cell_type": "code",
   "execution_count": 29,
   "id": "59afb838",
   "metadata": {
    "execution": {
     "iopub.execute_input": "2024-05-07T04:49:56.646932Z",
     "iopub.status.busy": "2024-05-07T04:49:56.645377Z",
     "iopub.status.idle": "2024-05-07T04:49:56.969891Z",
     "shell.execute_reply": "2024-05-07T04:49:56.968194Z"
    },
    "id": "Yc848_1KhYqA",
    "outputId": "80710fce-3add-4aff-b232-5a1d19c2599c",
    "papermill": {
     "duration": 0.349343,
     "end_time": "2024-05-07T04:49:56.973077",
     "exception": false,
     "start_time": "2024-05-07T04:49:56.623734",
     "status": "completed"
    },
    "tags": []
   },
   "outputs": [
    {
     "data": {
      "image/png": "[encoded data removed]",
      "text/plain": [
       "<Figure size 1000x500 with 1 Axes>"
      ]
     },
     "metadata": {},
     "output_type": "display_data"
    }
   ],
   "source": [
    "#Visualization\n",
    "y_prob = model.predict_proba(x_test)[:, 1]\n",
    "fpr, tpr, thresholds = roc_curve(y_test, y_prob)\n",
    "\n",
    "plt.figure(figsize=(10, 5))\n",
    "plt.plot(fpr, tpr, color='green', lw=2)\n",
    "plt.plot([0, 1], [0, 1], color='black', lw=2)\n",
    "plt.xlabel('False Positive Rate')\n",
    "plt.ylabel('True Positive Rate')\n",
    "plt.title('Gradient Boosting\\nAccuracy: {:.2f}%'.format(accuracy * 100))\n",
    "plt.show()"
   ]
  },
  {
   "cell_type": "markdown",
   "id": "11327ba9",
   "metadata": {
    "id": "MjVu8BMEvcGS",
    "papermill": {
     "duration": 0.022679,
     "end_time": "2024-05-07T04:49:57.016299",
     "exception": false,
     "start_time": "2024-05-07T04:49:56.993620",
     "status": "completed"
    },
    "tags": []
   },
   "source": [
    "# Comparing all models"
   ]
  },
  {
   "cell_type": "code",
   "execution_count": 30,
   "id": "695186ed",
   "metadata": {
    "execution": {
     "iopub.execute_input": "2024-05-07T04:49:57.062764Z",
     "iopub.status.busy": "2024-05-07T04:49:57.061733Z",
     "iopub.status.idle": "2024-05-07T04:49:57.068145Z",
     "shell.execute_reply": "2024-05-07T04:49:57.066942Z"
    },
    "id": "y55Uy-gChewe",
    "papermill": {
     "duration": 0.03141,
     "end_time": "2024-05-07T04:49:57.070848",
     "exception": false,
     "start_time": "2024-05-07T04:49:57.039438",
     "status": "completed"
    },
    "tags": []
   },
   "outputs": [],
   "source": [
    "#Define model names\n",
    "model_names = [\"Random Forest\", \"Logistic Regression\", \"Gradient Boosting\"]"
   ]
  },
  {
   "cell_type": "code",
   "execution_count": 31,
   "id": "7ae1ac4d",
   "metadata": {
    "execution": {
     "iopub.execute_input": "2024-05-07T04:49:57.113894Z",
     "iopub.status.busy": "2024-05-07T04:49:57.113354Z",
     "iopub.status.idle": "2024-05-07T04:49:57.118708Z",
     "shell.execute_reply": "2024-05-07T04:49:57.117300Z"
    },
    "id": "SSIQQc-FnTlS",
    "papermill": {
     "duration": 0.029899,
     "end_time": "2024-05-07T04:49:57.121154",
     "exception": false,
     "start_time": "2024-05-07T04:49:57.091255",
     "status": "completed"
    },
    "tags": []
   },
   "outputs": [],
   "source": [
    "#Define lists to store accuracies\n",
    "acc_list = []"
   ]
  },
  {
   "cell_type": "code",
   "execution_count": 32,
   "id": "3d5a24c1",
   "metadata": {
    "execution": {
     "iopub.execute_input": "2024-05-07T04:49:57.166064Z",
     "iopub.status.busy": "2024-05-07T04:49:57.165256Z",
     "iopub.status.idle": "2024-05-07T04:49:59.803963Z",
     "shell.execute_reply": "2024-05-07T04:49:59.802294Z"
    },
    "id": "YZdwQB_tnWGh",
    "papermill": {
     "duration": 2.664452,
     "end_time": "2024-05-07T04:49:59.807213",
     "exception": false,
     "start_time": "2024-05-07T04:49:57.142761",
     "status": "completed"
    },
    "tags": []
   },
   "outputs": [],
   "source": [
    "#Calculate and store accuracies for each model\n",
    "for model in [RandomForestClassifier(), LogisticRegression(), GradientBoostingClassifier()]:\n",
    "    model.fit(x_train, y_train)\n",
    "    y_pred = model.predict(x_test)\n",
    "    accuracy = accuracy_score(y_test, y_pred)\n",
    "    acc_list.append(accuracy)"
   ]
  },
  {
   "cell_type": "code",
   "execution_count": 33,
   "id": "70585035",
   "metadata": {
    "execution": {
     "iopub.execute_input": "2024-05-07T04:49:59.852924Z",
     "iopub.status.busy": "2024-05-07T04:49:59.852436Z",
     "iopub.status.idle": "2024-05-07T04:49:59.865707Z",
     "shell.execute_reply": "2024-05-07T04:49:59.864310Z"
    },
    "id": "ic6Mq1wLnbJW",
    "outputId": "610b4ab8-9c36-4075-fa48-103804872be5",
    "papermill": {
     "duration": 0.038585,
     "end_time": "2024-05-07T04:49:59.868276",
     "exception": false,
     "start_time": "2024-05-07T04:49:59.829691",
     "status": "completed"
    },
    "tags": []
   },
   "outputs": [
    {
     "data": {
      "text/html": [
       "<div>\n",
       "<style scoped>\n",
       "    .dataframe tbody tr th:only-of-type {\n",
       "        vertical-align: middle;\n",
       "    }\n",
       "\n",
       "    .dataframe tbody tr th {\n",
       "        vertical-align: top;\n",
       "    }\n",
       "\n",
       "    .dataframe thead th {\n",
       "        text-align: right;\n",
       "    }\n",
       "</style>\n",
       "<table border=\"1\" class=\"dataframe\">\n",
       "  <thead>\n",
       "    <tr style=\"text-align: right;\">\n",
       "      <th></th>\n",
       "      <th>Model</th>\n",
       "      <th>Accuracy_Score</th>\n",
       "    </tr>\n",
       "  </thead>\n",
       "  <tbody>\n",
       "    <tr>\n",
       "      <th>0</th>\n",
       "      <td>Random Forest</td>\n",
       "      <td>0.860667</td>\n",
       "    </tr>\n",
       "    <tr>\n",
       "      <th>1</th>\n",
       "      <td>Logistic Regression</td>\n",
       "      <td>0.789000</td>\n",
       "    </tr>\n",
       "    <tr>\n",
       "      <th>2</th>\n",
       "      <td>Gradient Boosting</td>\n",
       "      <td>0.863667</td>\n",
       "    </tr>\n",
       "  </tbody>\n",
       "</table>\n",
       "</div>"
      ],
      "text/plain": [
       "                 Model  Accuracy_Score\n",
       "0        Random Forest        0.860667\n",
       "1  Logistic Regression        0.789000\n",
       "2    Gradient Boosting        0.863667"
      ]
     },
     "execution_count": 33,
     "metadata": {},
     "output_type": "execute_result"
    }
   ],
   "source": [
    "#DataFrame to store results\n",
    "model_results = pd.DataFrame({\"Model\": model_names,\n",
    "                              \"Accuracy_Score\": acc_list})\n",
    "model_results"
   ]
  },
  {
   "cell_type": "code",
   "execution_count": 34,
   "id": "58f1ff4d",
   "metadata": {
    "execution": {
     "iopub.execute_input": "2024-05-07T04:49:59.913309Z",
     "iopub.status.busy": "2024-05-07T04:49:59.912589Z",
     "iopub.status.idle": "2024-05-07T04:50:00.171704Z",
     "shell.execute_reply": "2024-05-07T04:50:00.168449Z"
    },
    "id": "S6qqce0GvSi5",
    "outputId": "15694f08-f07e-49c5-9be8-0c0cd4904d2c",
    "papermill": {
     "duration": 0.286136,
     "end_time": "2024-05-07T04:50:00.175893",
     "exception": false,
     "start_time": "2024-05-07T04:49:59.889757",
     "status": "completed"
    },
    "tags": []
   },
   "outputs": [
    {
     "data": {
      "text/plain": [
       "<Axes: xlabel='Model', ylabel='Accuracy_Score'>"
      ]
     },
     "execution_count": 34,
     "metadata": {},
     "output_type": "execute_result"
    },
    {
     "data": {
      "image/png": "[encoded data removed]",
      "text/plain": [
       "<Figure size 640x480 with 1 Axes>"
      ]
     },
     "metadata": {},
     "output_type": "display_data"
    }
   ],
   "source": [
    "#Barplot of accuracies\n",
    "sns.barplot(x=\"Model\", y=\"Accuracy_Score\", data=model_results)"
   ]
  }
 ],
 "metadata": {
  "colab": {
   "provenance": []
  },
  "kaggle": {
   "accelerator": "none",
   "dataSources": [
    {
     "datasetId": 4954810,
     "sourceId": 8342031,
     "sourceType": "datasetVersion"
    }
   ],
   "dockerImageVersionId": 30673,
   "isGpuEnabled": false,
   "isInternetEnabled": false,
   "language": "python",
   "sourceType": "notebook"
  },
  "kernelspec": {
   "display_name": "Python 3",
   "language": "python",
   "name": "python3"
  },
  "language_info": {
   "codemirror_mode": {
    "name": "ipython",
    "version": 3
   },
   "file_extension": ".py",
   "mimetype": "text/x-python",
   "name": "python",
   "nbconvert_exporter": "python",
   "pygments_lexer": "ipython3",
   "version": "3.10.13"
  },
  "papermill": {
   "default_parameters": {},
   "duration": 18.000491,
   "end_time": "2024-05-07T04:50:01.236723",
   "environment_variables": {},
   "exception": null,
   "input_path": "__notebook__.ipynb",
   "output_path": "__notebook__.ipynb",
   "parameters": {},
   "start_time": "2024-05-07T04:49:43.236232",
   "version": "2.5.0"
  }
 },
 "nbformat": 4,
 "nbformat_minor": 5
}
